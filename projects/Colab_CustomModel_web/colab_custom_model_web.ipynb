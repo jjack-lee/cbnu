{
  "nbformat": 4,
  "nbformat_minor": 0,
  "metadata": {
    "colab": {
      "provenance": []
    },
    "kernelspec": {
      "name": "python3",
      "display_name": "Python 3"
    },
    "language_info": {
      "name": "python"
    },
    "gpuClass": "standard",
    "accelerator": "GPU"
  },
  "cells": [
    {
      "cell_type": "code",
      "source": [
        "from google.colab import drive\n",
        "drive.mount('/content/drive')"
      ],
      "metadata": {
        "colab": {
          "base_uri": "https://localhost:8080/"
        },
        "id": "MF0SdaUsWHgj",
        "outputId": "1e1bffff-cae3-4667-f33e-6f2c0f12f03b"
      },
      "execution_count": null,
      "outputs": [
        {
          "output_type": "stream",
          "name": "stdout",
          "text": [
            "Drive already mounted at /content/drive; to attempt to forcibly remount, call drive.mount(\"/content/drive\", force_remount=True).\n"
          ]
        }
      ]
    },
    {
      "cell_type": "code",
      "execution_count": null,
      "metadata": {
        "colab": {
          "base_uri": "https://localhost:8080/"
        },
        "id": "Wdtf2iJHUNs3",
        "outputId": "f3dfbd68-1469-4985-8f33-e978687ee6a0"
      },
      "outputs": [
        {
          "output_type": "stream",
          "name": "stdout",
          "text": [
            "Looking in indexes: https://pypi.org/simple, https://us-python.pkg.dev/colab-wheels/public/simple/\n",
            "Collecting pyngrok==4.1.1.\n",
            "  Downloading pyngrok-4.1.1.tar.gz (18 kB)\n",
            "  Preparing metadata (setup.py) ... \u001b[?25l\u001b[?25hdone\n",
            "Requirement already satisfied: future in /usr/local/lib/python3.9/dist-packages (from pyngrok==4.1.1.) (0.18.3)\n",
            "Requirement already satisfied: PyYAML in /usr/local/lib/python3.9/dist-packages (from pyngrok==4.1.1.) (6.0)\n",
            "Building wheels for collected packages: pyngrok\n",
            "  Building wheel for pyngrok (setup.py) ... \u001b[?25l\u001b[?25hdone\n",
            "  Created wheel for pyngrok: filename=pyngrok-4.1.1-py3-none-any.whl size=15979 sha256=d134c79c00ee2b80a286c067a76f828ce7805bb76c7bfb172850e2097a7c87e8\n",
            "  Stored in directory: /root/.cache/pip/wheels/89/2d/c2/abe6bcfde6bce368c00ecd73310c11edb672c3eda09a090cfa\n",
            "Successfully built pyngrok\n",
            "Installing collected packages: pyngrok\n",
            "  Attempting uninstall: pyngrok\n",
            "    Found existing installation: pyngrok 6.0.0\n",
            "    Uninstalling pyngrok-6.0.0:\n",
            "      Successfully uninstalled pyngrok-6.0.0\n",
            "Successfully installed pyngrok-4.1.1\n"
          ]
        }
      ],
      "source": [
        "!pip install streamlit -q\n",
        "!pip install pyngrok==4.1.1."
      ]
    },
    {
      "cell_type": "code",
      "source": [
        "from pyngrok import ngrok\n",
        "\n",
        "ngrok.set_auth_token('2OsPhFirNUbVAGFkFjeGXNVSV7U_3jRuK8csoeDrd12kBGUcr');"
      ],
      "metadata": {
        "id": "M6JZuGA-U-NV",
        "colab": {
          "base_uri": "https://localhost:8080/"
        },
        "outputId": "7d639bf1-391f-441d-abc6-57610f0c0487"
      },
      "execution_count": null,
      "outputs": [
        {
          "output_type": "stream",
          "name": "stdout",
          "text": []
        }
      ]
    },
    {
      "cell_type": "code",
      "source": [
        "%%writefile app.py\n",
        "\n",
        "import streamlit as st\n",
        "import torch\n",
        "\n",
        "from PIL import Image, ImageOps\n",
        "\n",
        "st.title('세탁물 얼룩 검출')\n",
        "file = st.file_uploader('이미지 업로드 +' , type=['jpg','png'])\n",
        "\n",
        "if file is None:\n",
        "  st.text('업로드된 이미지가 없습니다.')\n",
        "else:\n",
        "  image = Image.open(file)\n",
        "\n",
        "  img_resized = ImageOps.fit(image,(640,640),Image.ANTIALIAS)\n",
        "  img_resized = img_resized.convert(\"RGB\")\n",
        "\n",
        "  st.image(img_resized,use_column_width=True)\n",
        "\n",
        "  model = torch.hub.load('/content/drive/MyDrive/Colab_Data_2/yolov5', 'custom', path='/content/drive/MyDrive/Colab_Data_2/yolov5/runs/train/yolov5s_results11/weights/best.pt', source='local')\n",
        "  #model = torch.hub.load('/content/drive/MyDrive/Colab_Data/yolov5', 'custom', path='/content/drive/MyDrive/Colab_Data/yolov5/runs/train/yolov5s_results4/weights/best.pt', source='local')\n",
        "  #model = torch.hub.load('/content/drive/MyDrive/Colab_Data_1/yolov5', 'custom', path='/content/drive/MyDrive/Colab_Data_1/yolov5/runs/train/yolov5s_results4/weights/best.pt', source='local')\n",
        "\n",
        "  model.conf = 0.7\n",
        "  result = model(img_resized)\n",
        "\n",
        "  st.success(result)\n",
        "\n",
        "  r_img = result.render() # returns a list with the images as np.array\n",
        "  img_with_boxes = r_img[0]\n",
        "  st.image(img_with_boxes,use_column_width=True)\n",
        "\n",
        "\n"
      ],
      "metadata": {
        "colab": {
          "base_uri": "https://localhost:8080/"
        },
        "id": "EG7CQxSxVM1M",
        "outputId": "eeb0db0a-aa79-4be1-acc7-fda08c919d6f"
      },
      "execution_count": null,
      "outputs": [
        {
          "output_type": "stream",
          "name": "stdout",
          "text": [
            "Writing app.py\n"
          ]
        }
      ]
    },
    {
      "cell_type": "code",
      "source": [
        "cat app.py"
      ],
      "metadata": {
        "id": "fOnRyD4KXSHj",
        "colab": {
          "base_uri": "https://localhost:8080/"
        },
        "outputId": "072198c1-d5b8-4d49-affd-401e5f0bfd45"
      },
      "execution_count": null,
      "outputs": [
        {
          "output_type": "stream",
          "name": "stdout",
          "text": [
            "\n",
            "import streamlit as st\n",
            "import torch\n",
            "\n",
            "from PIL import Image, ImageOps\n",
            "\n",
            "st.title('세탁물 얼룩 검출')\n",
            "file = st.file_uploader('이미지 업로드 +' , type=['jpg','png'])\n",
            "\n",
            "if file is None:\n",
            "  st.text('업로드된 이미지가 없습니다.')\n",
            "else:\n",
            "  image = Image.open(file)\n",
            "  \n",
            "  img_resized = ImageOps.fit(image,(640,640),Image.ANTIALIAS)\n",
            "  img_resized = img_resized.convert(\"RGB\")\n",
            "\n",
            "  st.image(img_resized,use_column_width=True)\n",
            "\n",
            "  model = torch.hub.load('/content/drive/MyDrive/Colab_Data_2/yolov5', 'custom', path='/content/drive/MyDrive/Colab_Data_2/yolov5/runs/train/yolov5s_results11/weights/best.pt', source='local')\n",
            "  #model = torch.hub.load('/content/drive/MyDrive/Colab_Data/yolov5', 'custom', path='/content/drive/MyDrive/Colab_Data/yolov5/runs/train/yolov5s_results4/weights/best.pt', source='local')\n",
            "  #model = torch.hub.load('/content/drive/MyDrive/Colab_Data_1/yolov5', 'custom', path='/content/drive/MyDrive/Colab_Data_1/yolov5/runs/train/yolov5s_results4/weights/best.pt', source='local')\n",
            "  \n",
            "  model.conf = 0.7\n",
            "  result = model(img_resized)\n",
            "\n",
            "  st.success(result)\n",
            "\n",
            "  r_img = result.render() # returns a list with the images as np.array\n",
            "  img_with_boxes = r_img[0]\n",
            "  st.image(img_with_boxes,use_column_width=True)\n",
            "\n",
            "\n"
          ]
        }
      ]
    },
    {
      "cell_type": "code",
      "source": [
        "!nohup streamlit run app.py --server.port 80 &"
      ],
      "metadata": {
        "colab": {
          "base_uri": "https://localhost:8080/"
        },
        "id": "P5i0fsPYXTYm",
        "outputId": "7fa3df9f-a52e-4af6-f60b-1826039cda29"
      },
      "execution_count": null,
      "outputs": [
        {
          "output_type": "stream",
          "name": "stdout",
          "text": [
            "nohup: appending output to 'nohup.out'\n"
          ]
        }
      ]
    },
    {
      "cell_type": "code",
      "source": [
        "url = ngrok.connect(port='80')\n",
        "url"
      ],
      "metadata": {
        "id": "MSxVhCxFXiLv",
        "colab": {
          "base_uri": "https://localhost:8080/",
          "height": 36
        },
        "outputId": "3f1f1cfc-2779-486a-9fe1-7d5bfba41c99"
      },
      "execution_count": null,
      "outputs": [
        {
          "output_type": "execute_result",
          "data": {
            "text/plain": [
              "'http://2d52-34-172-200-227.ngrok-free.app'"
            ],
            "application/vnd.google.colaboratory.intrinsic+json": {
              "type": "string"
            }
          },
          "metadata": {},
          "execution_count": 13
        }
      ]
    },
    {
      "cell_type": "code",
      "source": [
        "ngrok.kill()"
      ],
      "metadata": {
        "id": "4_HVBhNGYYLe"
      },
      "execution_count": null,
      "outputs": []
    }
  ]
}